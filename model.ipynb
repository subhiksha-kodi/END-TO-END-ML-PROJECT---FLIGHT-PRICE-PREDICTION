{
 "cells": [
  {
   "cell_type": "code",
   "execution_count": 69,
   "id": "67d64a4a",
   "metadata": {},
   "outputs": [],
   "source": [
    "import pandas as pd \n",
    "import numpy as np\n",
    "import matplotlib.pyplot as plt\n",
    "import seaborn as sns"
   ]
  },
  {
   "cell_type": "code",
   "execution_count": 70,
   "id": "d07699bf",
   "metadata": {},
   "outputs": [
    {
     "data": {
      "text/html": [
       "<div>\n",
       "<style scoped>\n",
       "    .dataframe tbody tr th:only-of-type {\n",
       "        vertical-align: middle;\n",
       "    }\n",
       "\n",
       "    .dataframe tbody tr th {\n",
       "        vertical-align: top;\n",
       "    }\n",
       "\n",
       "    .dataframe thead th {\n",
       "        text-align: right;\n",
       "    }\n",
       "</style>\n",
       "<table border=\"1\" class=\"dataframe\">\n",
       "  <thead>\n",
       "    <tr style=\"text-align: right;\">\n",
       "      <th></th>\n",
       "      <th>airline</th>\n",
       "      <th>flight</th>\n",
       "      <th>source_city</th>\n",
       "      <th>departure_time</th>\n",
       "      <th>stops</th>\n",
       "      <th>arrival_time</th>\n",
       "      <th>destination_city</th>\n",
       "      <th>class</th>\n",
       "      <th>days_left</th>\n",
       "      <th>price</th>\n",
       "      <th>duration_hour</th>\n",
       "      <th>duration_min</th>\n",
       "    </tr>\n",
       "  </thead>\n",
       "  <tbody>\n",
       "    <tr>\n",
       "      <th>0</th>\n",
       "      <td>SpiceJet</td>\n",
       "      <td>SG-8709</td>\n",
       "      <td>Delhi</td>\n",
       "      <td>Evening</td>\n",
       "      <td>zero</td>\n",
       "      <td>Night</td>\n",
       "      <td>Mumbai</td>\n",
       "      <td>Economy</td>\n",
       "      <td>1</td>\n",
       "      <td>5953</td>\n",
       "      <td>2</td>\n",
       "      <td>17</td>\n",
       "    </tr>\n",
       "    <tr>\n",
       "      <th>1</th>\n",
       "      <td>SpiceJet</td>\n",
       "      <td>SG-8157</td>\n",
       "      <td>Delhi</td>\n",
       "      <td>Morning</td>\n",
       "      <td>zero</td>\n",
       "      <td>Morning</td>\n",
       "      <td>Mumbai</td>\n",
       "      <td>Economy</td>\n",
       "      <td>1</td>\n",
       "      <td>5953</td>\n",
       "      <td>2</td>\n",
       "      <td>33</td>\n",
       "    </tr>\n",
       "    <tr>\n",
       "      <th>2</th>\n",
       "      <td>AirAsia</td>\n",
       "      <td>I5-764</td>\n",
       "      <td>Delhi</td>\n",
       "      <td>Morning</td>\n",
       "      <td>zero</td>\n",
       "      <td>Morning</td>\n",
       "      <td>Mumbai</td>\n",
       "      <td>Economy</td>\n",
       "      <td>1</td>\n",
       "      <td>5956</td>\n",
       "      <td>2</td>\n",
       "      <td>17</td>\n",
       "    </tr>\n",
       "    <tr>\n",
       "      <th>3</th>\n",
       "      <td>Vistara</td>\n",
       "      <td>UK-995</td>\n",
       "      <td>Delhi</td>\n",
       "      <td>Morning</td>\n",
       "      <td>zero</td>\n",
       "      <td>Afternoon</td>\n",
       "      <td>Mumbai</td>\n",
       "      <td>Economy</td>\n",
       "      <td>1</td>\n",
       "      <td>5955</td>\n",
       "      <td>2</td>\n",
       "      <td>25</td>\n",
       "    </tr>\n",
       "    <tr>\n",
       "      <th>4</th>\n",
       "      <td>Vistara</td>\n",
       "      <td>UK-963</td>\n",
       "      <td>Delhi</td>\n",
       "      <td>Morning</td>\n",
       "      <td>zero</td>\n",
       "      <td>Morning</td>\n",
       "      <td>Mumbai</td>\n",
       "      <td>Economy</td>\n",
       "      <td>1</td>\n",
       "      <td>5955</td>\n",
       "      <td>2</td>\n",
       "      <td>33</td>\n",
       "    </tr>\n",
       "  </tbody>\n",
       "</table>\n",
       "</div>"
      ],
      "text/plain": [
       "    airline   flight source_city departure_time stops arrival_time  \\\n",
       "0  SpiceJet  SG-8709       Delhi        Evening  zero        Night   \n",
       "1  SpiceJet  SG-8157       Delhi        Morning  zero      Morning   \n",
       "2   AirAsia   I5-764       Delhi        Morning  zero      Morning   \n",
       "3   Vistara   UK-995       Delhi        Morning  zero    Afternoon   \n",
       "4   Vistara   UK-963       Delhi        Morning  zero      Morning   \n",
       "\n",
       "  destination_city    class  days_left  price  duration_hour  duration_min  \n",
       "0           Mumbai  Economy          1   5953              2            17  \n",
       "1           Mumbai  Economy          1   5953              2            33  \n",
       "2           Mumbai  Economy          1   5956              2            17  \n",
       "3           Mumbai  Economy          1   5955              2            25  \n",
       "4           Mumbai  Economy          1   5955              2            33  "
      ]
     },
     "execution_count": 70,
     "metadata": {},
     "output_type": "execute_result"
    }
   ],
   "source": [
    "df=pd.read_csv('cleaned_dataset.csv')\n",
    "df.head()"
   ]
  },
  {
   "cell_type": "code",
   "execution_count": 71,
   "id": "2a96e240",
   "metadata": {},
   "outputs": [],
   "source": [
    "data=df.sample(n=2000,random_state=42)"
   ]
  },
  {
   "cell_type": "code",
   "execution_count": 72,
   "id": "b5b46140",
   "metadata": {},
   "outputs": [
    {
     "data": {
      "text/html": [
       "<div>\n",
       "<style scoped>\n",
       "    .dataframe tbody tr th:only-of-type {\n",
       "        vertical-align: middle;\n",
       "    }\n",
       "\n",
       "    .dataframe tbody tr th {\n",
       "        vertical-align: top;\n",
       "    }\n",
       "\n",
       "    .dataframe thead th {\n",
       "        text-align: right;\n",
       "    }\n",
       "</style>\n",
       "<table border=\"1\" class=\"dataframe\">\n",
       "  <thead>\n",
       "    <tr style=\"text-align: right;\">\n",
       "      <th></th>\n",
       "      <th>airline</th>\n",
       "      <th>flight</th>\n",
       "      <th>source_city</th>\n",
       "      <th>departure_time</th>\n",
       "      <th>stops</th>\n",
       "      <th>arrival_time</th>\n",
       "      <th>destination_city</th>\n",
       "      <th>class</th>\n",
       "      <th>days_left</th>\n",
       "      <th>price</th>\n",
       "      <th>duration_hour</th>\n",
       "      <th>duration_min</th>\n",
       "    </tr>\n",
       "  </thead>\n",
       "  <tbody>\n",
       "    <tr>\n",
       "      <th>27131</th>\n",
       "      <td>1</td>\n",
       "      <td>219</td>\n",
       "      <td>2</td>\n",
       "      <td>2</td>\n",
       "      <td>0</td>\n",
       "      <td>2</td>\n",
       "      <td>4</td>\n",
       "      <td>1</td>\n",
       "      <td>40</td>\n",
       "      <td>7366</td>\n",
       "      <td>19</td>\n",
       "      <td>75</td>\n",
       "    </tr>\n",
       "    <tr>\n",
       "      <th>266857</th>\n",
       "      <td>5</td>\n",
       "      <td>524</td>\n",
       "      <td>4</td>\n",
       "      <td>2</td>\n",
       "      <td>0</td>\n",
       "      <td>3</td>\n",
       "      <td>5</td>\n",
       "      <td>0</td>\n",
       "      <td>42</td>\n",
       "      <td>64831</td>\n",
       "      <td>9</td>\n",
       "      <td>83</td>\n",
       "    </tr>\n",
       "    <tr>\n",
       "      <th>141228</th>\n",
       "      <td>5</td>\n",
       "      <td>532</td>\n",
       "      <td>4</td>\n",
       "      <td>2</td>\n",
       "      <td>0</td>\n",
       "      <td>3</td>\n",
       "      <td>0</td>\n",
       "      <td>1</td>\n",
       "      <td>41</td>\n",
       "      <td>6195</td>\n",
       "      <td>10</td>\n",
       "      <td>5</td>\n",
       "    </tr>\n",
       "    <tr>\n",
       "      <th>288329</th>\n",
       "      <td>5</td>\n",
       "      <td>557</td>\n",
       "      <td>1</td>\n",
       "      <td>3</td>\n",
       "      <td>0</td>\n",
       "      <td>2</td>\n",
       "      <td>2</td>\n",
       "      <td>0</td>\n",
       "      <td>14</td>\n",
       "      <td>60160</td>\n",
       "      <td>14</td>\n",
       "      <td>5</td>\n",
       "    </tr>\n",
       "    <tr>\n",
       "      <th>97334</th>\n",
       "      <td>1</td>\n",
       "      <td>214</td>\n",
       "      <td>0</td>\n",
       "      <td>0</td>\n",
       "      <td>0</td>\n",
       "      <td>3</td>\n",
       "      <td>5</td>\n",
       "      <td>1</td>\n",
       "      <td>20</td>\n",
       "      <td>6578</td>\n",
       "      <td>8</td>\n",
       "      <td>25</td>\n",
       "    </tr>\n",
       "  </tbody>\n",
       "</table>\n",
       "</div>"
      ],
      "text/plain": [
       "        airline  flight  source_city  departure_time  stops  arrival_time  \\\n",
       "27131         1     219            2               2      0             2   \n",
       "266857        5     524            4               2      0             3   \n",
       "141228        5     532            4               2      0             3   \n",
       "288329        5     557            1               3      0             2   \n",
       "97334         1     214            0               0      0             3   \n",
       "\n",
       "        destination_city  class  days_left  price  duration_hour  duration_min  \n",
       "27131                  4      1         40   7366             19            75  \n",
       "266857                 5      0         42  64831              9            83  \n",
       "141228                 0      1         41   6195             10             5  \n",
       "288329                 2      0         14  60160             14             5  \n",
       "97334                  5      1         20   6578              8            25  "
      ]
     },
     "execution_count": 72,
     "metadata": {},
     "output_type": "execute_result"
    }
   ],
   "source": [
    "from sklearn.preprocessing import LabelEncoder\n",
    "\n",
    "categorical_columns=[]\n",
    "for i in data.columns:\n",
    "  if data[i].dtype=='object':\n",
    "    categorical_columns.append(i)\n",
    "\n",
    "label_encoders = {} \n",
    "\n",
    "for col in categorical_columns:\n",
    "    le = LabelEncoder()\n",
    "    data[col] = le.fit_transform(data[col].astype(str))\n",
    "    label_encoders[col] = le\n",
    " \n",
    "data.head()"
   ]
  },
  {
   "cell_type": "code",
   "execution_count": 73,
   "id": "86f4b031",
   "metadata": {},
   "outputs": [],
   "source": [
    "from sklearn.model_selection import train_test_split\n",
    "\n",
    "X=data.drop('price',axis=1)\n",
    "y=data['price']\n",
    "\n",
    "X_train,X_test,y_train,y_test=train_test_split(X,y,test_size=0.2,random_state=42)"
   ]
  },
  {
   "cell_type": "markdown",
   "id": "f9630578",
   "metadata": {},
   "source": [
    "LINEAR REGRESSION"
   ]
  },
  {
   "cell_type": "code",
   "execution_count": 74,
   "id": "8c5cf24b",
   "metadata": {},
   "outputs": [
    {
     "name": "stdout",
     "output_type": "stream",
     "text": [
      "R^2: 0.9034554998383858\n",
      "RMSE: 7043.775130184119\n"
     ]
    }
   ],
   "source": [
    "from sklearn.linear_model import LinearRegression\n",
    "from sklearn.metrics import r2_score,root_mean_squared_error\n",
    "model=LinearRegression()\n",
    "model.fit(X_train,y_train)\n",
    "\n",
    "y_pred=model.predict(X_test)\n",
    "\n",
    "print(f'R^2: {r2_score(y_test,y_pred)}')\n",
    "print(f'RMSE: {root_mean_squared_error(y_test,y_pred)}')"
   ]
  },
  {
   "cell_type": "markdown",
   "id": "2a17eb38",
   "metadata": {},
   "source": [
    "RIDGE REGRESSION"
   ]
  },
  {
   "cell_type": "code",
   "execution_count": 75,
   "id": "562cba3e",
   "metadata": {},
   "outputs": [
    {
     "name": "stdout",
     "output_type": "stream",
     "text": [
      "Best alpha: 4.714866363457395\n",
      "R^2: 0.9034654736988674\n",
      "RMSE: 7043.411280121006\n"
     ]
    }
   ],
   "source": [
    "from sklearn.linear_model import RidgeCV\n",
    "from sklearn.preprocessing import StandardScaler\n",
    "from sklearn.model_selection import GridSearchCV\n",
    "from sklearn.linear_model import Ridge\n",
    "\n",
    "scaler=StandardScaler()\n",
    "X_train_scaled=scaler.fit_transform(X_train)\n",
    "X_test_scaled=scaler.transform(X_test)\n",
    "\n",
    "param_grid={\n",
    "  'alpha': np.logspace(-3,3,50)\n",
    "}\n",
    "\n",
    "grid=GridSearchCV(Ridge(),param_grid,cv=5,scoring='r2')\n",
    "grid.fit(X_train_scaled,y_train)\n",
    "\n",
    "y_pred1=grid.best_estimator_.predict(X_test_scaled)\n",
    "\n",
    "print(f'Best alpha: {grid.best_params_[\"alpha\"]}')\n",
    "print(f'R^2: {r2_score(y_test,y_pred1)}')\n",
    "print(f'RMSE: {root_mean_squared_error(y_test,y_pred1)}')\n"
   ]
  },
  {
   "cell_type": "markdown",
   "id": "073d8ec3",
   "metadata": {},
   "source": [
    "LASSO REGRESSION"
   ]
  },
  {
   "cell_type": "code",
   "execution_count": 76,
   "id": "86e5638b",
   "metadata": {},
   "outputs": [
    {
     "name": "stdout",
     "output_type": "stream",
     "text": [
      "Best alpha: 10.0\n",
      "R^2: 0.9035671413264245\n",
      "RMSE: 7039.701335179362\n"
     ]
    }
   ],
   "source": [
    "from sklearn.linear_model import Lasso\n",
    "\n",
    "param_grid={\n",
    "  'alpha':np.logspace(-3,1,50)\n",
    "}\n",
    "\n",
    "grid=GridSearchCV(Lasso(),param_grid,cv=5,scoring='r2')\n",
    "grid.fit(X_train_scaled,y_train)\n",
    "\n",
    "y_pred2=grid.best_estimator_.predict(X_test_scaled)\n",
    "\n",
    "print(f'Best alpha: {grid.best_params_[\"alpha\"]}')\n",
    "print(f'R^2: {r2_score(y_test,y_pred2)}')\n",
    "print(f'RMSE: {root_mean_squared_error(y_test,y_pred2)}')\n"
   ]
  },
  {
   "cell_type": "markdown",
   "id": "cc34e523",
   "metadata": {},
   "source": [
    "KNN"
   ]
  },
  {
   "cell_type": "code",
   "execution_count": 77,
   "id": "331ef9a1",
   "metadata": {},
   "outputs": [
    {
     "name": "stdout",
     "output_type": "stream",
     "text": [
      "Best params: {'n_neighbors': 5, 'p': 2, 'weights': 'distance'}\n",
      "R^2: 0.9348686534869874\n",
      "RMSE: 5785.444636919566\n"
     ]
    }
   ],
   "source": [
    "from sklearn.neighbors import KNeighborsRegressor\n",
    "\n",
    "param_grid={\n",
    "  'n_neighbors':list(range(1,21)), #no.of nearest neighbors used to make predictions\n",
    "  'weights':['uniform','distance'],  #how neighbors influence the prediction (uniform--> all neighbors contribute equally, distance → closer neighbors have more influence)\n",
    "  'p':[1,2]  #p=1 --> Manhattan distance, p=2 --> Euclidean Distance\n",
    "  }\n",
    "grid=GridSearchCV(KNeighborsRegressor(),param_grid,cv=5,scoring='r2')\n",
    "grid.fit(X_train_scaled,y_train)\n",
    "y_pred3=grid.best_estimator_.predict(X_test_scaled)\n",
    "\n",
    "print(f'Best params: {grid.best_params_}')\n",
    "print(f'R^2: {r2_score(y_test,y_pred3)}')\n",
    "print(f'RMSE: {root_mean_squared_error(y_test,y_pred3)}')\n"
   ]
  },
  {
   "cell_type": "markdown",
   "id": "97787320",
   "metadata": {},
   "source": [
    "SVM"
   ]
  },
  {
   "cell_type": "code",
   "execution_count": 78,
   "id": "e619da7e",
   "metadata": {},
   "outputs": [
    {
     "name": "stdout",
     "output_type": "stream",
     "text": [
      "Best params: {'C': 100, 'epsilon': 0.01, 'kernel': 'linear'}\n",
      "R^2: 0.9011692941412056\n",
      "RMSE: 7126.686621675992\n"
     ]
    }
   ],
   "source": [
    "from sklearn.svm import SVR\n",
    "\n",
    "param_grid={\n",
    "  'C':[0.1,1,10,100],  #C --> regularization parameter\n",
    "  'epsilon':[0.01,0.1,0.5,1],\n",
    "  'kernel':['linear','rbf']\n",
    "}\n",
    "grid=GridSearchCV(SVR(),param_grid,cv=5,scoring='r2')\n",
    "grid.fit(X_train_scaled,y_train)\n",
    "\n",
    "y_pred4=grid.best_estimator_.predict(X_test_scaled)\n",
    "\n",
    "print(f'Best params: {grid.best_params_}')\n",
    "print(f'R^2: {r2_score(y_test,y_pred4)}')\n",
    "print(f'RMSE: {root_mean_squared_error(y_test,y_pred4)}')"
   ]
  },
  {
   "cell_type": "markdown",
   "id": "72032c68",
   "metadata": {},
   "source": [
    "Xgboost"
   ]
  },
  {
   "cell_type": "code",
   "execution_count": 79,
   "id": "05fb0776",
   "metadata": {},
   "outputs": [
    {
     "name": "stdout",
     "output_type": "stream",
     "text": [
      "Best params: {'learning_rate': 0.2, 'max_depth': 3, 'n_estimators': 80}\n",
      "R^2: 0.9472814202308655\n",
      "RMSE: 5205.0341796875\n"
     ]
    }
   ],
   "source": [
    "from xgboost import XGBRegressor\n",
    "model6=XGBRegressor(objective='reg:squarederror')\n",
    "param_grid={\n",
    "  'max_depth':[2,3,5],\n",
    "  'learning_rate':[0.01,0.1,0.2],\n",
    "  'n_estimators':[50,80,100]\n",
    "  }\n",
    "grid=GridSearchCV(model6,param_grid,cv=5,scoring='r2')\n",
    "grid.fit(X_train,y_train)\n",
    "\n",
    "y_pred6=grid.best_estimator_.predict(X_test)\n",
    "\n",
    "print(f'Best params: {grid.best_params_}')\n",
    "print(f'R^2: {r2_score(y_test,y_pred6)}')\n",
    "print(f'RMSE: {root_mean_squared_error(y_test,y_pred6)}')\n"
   ]
  },
  {
   "cell_type": "markdown",
   "id": "8f1db093",
   "metadata": {},
   "source": [
    "RANDOM FOREST REGRESSOR"
   ]
  },
  {
   "cell_type": "code",
   "execution_count": 80,
   "id": "42434d74",
   "metadata": {},
   "outputs": [
    {
     "name": "stdout",
     "output_type": "stream",
     "text": [
      "Best params: {'max_depth': 15, 'min_samples_split': 2, 'n_estimators': 150}\n",
      "R^2: 0.949883244610807\n",
      "RMSE: 5074.96658291267\n"
     ]
    }
   ],
   "source": [
    "from sklearn.ensemble import RandomForestRegressor\n",
    "\n",
    "model8=RandomForestRegressor(random_state=42)\n",
    "param_grid={\n",
    "  'n_estimators':[50,100,150],\n",
    "  'max_depth':[5,10,15],\n",
    "  'min_samples_split':[2,5,10]\n",
    "  }\n",
    "\n",
    "grid=GridSearchCV(model8,param_grid,cv=5,scoring='r2')\n",
    "grid.fit(X_train,y_train)\n",
    "\n",
    "y_pred8=grid.best_estimator_.predict(X_test)\n",
    "\n",
    "print(f'Best params: {grid.best_params_}')\n",
    "print(f'R^2: {r2_score(y_test,y_pred8)}')\n",
    "print(f'RMSE: {root_mean_squared_error(y_test,y_pred8)}')"
   ]
  },
  {
   "cell_type": "markdown",
   "id": "d9510a4b",
   "metadata": {},
   "source": [
    "GRADIENT BOOST"
   ]
  },
  {
   "cell_type": "code",
   "execution_count": 81,
   "id": "fd7cae29",
   "metadata": {},
   "outputs": [
    {
     "name": "stdout",
     "output_type": "stream",
     "text": [
      "Best params: {'learning_rate': 0.1, 'max_depth': 5, 'n_estimators': 80}\n",
      "R^2: 0.9508730181525509\n",
      "RMSE: 5024.603025275199\n"
     ]
    }
   ],
   "source": [
    "from sklearn.ensemble import GradientBoostingRegressor\n",
    "model7=GradientBoostingRegressor()\n",
    "param_grid={\n",
    "  'max_depth':[2,3,5],\n",
    "  'learning_rate':[0.01,0.1,0.2],\n",
    "  'n_estimators':[50,80,100]\n",
    "  }\n",
    "grid=GridSearchCV(model7,param_grid,cv=5,scoring='r2')\n",
    "grid.fit(X_train,y_train)\n",
    "\n",
    "y_pred7=grid.best_estimator_.predict(X_test)\n",
    "\n",
    "print(f'Best params: {grid.best_params_}')\n",
    "print(f'R^2: {r2_score(y_test,y_pred7)}')\n",
    "print(f'RMSE: {root_mean_squared_error(y_test,y_pred7)}')"
   ]
  },
  {
   "cell_type": "code",
   "execution_count": 84,
   "id": "eaa125f5",
   "metadata": {},
   "outputs": [],
   "source": [
    "with open(\"model.pkl\",\"wb\") as f:\n",
    "    pickle.dump(model,f)\n",
    "with open(\"label_encoders.pkl\",\"wb\") as f:\n",
    "    pickle.dump(label_encoders,f)"
   ]
  }
 ],
 "metadata": {
  "kernelspec": {
   "display_name": "Python 3",
   "language": "python",
   "name": "python3"
  },
  "language_info": {
   "codemirror_mode": {
    "name": "ipython",
    "version": 3
   },
   "file_extension": ".py",
   "mimetype": "text/x-python",
   "name": "python",
   "nbconvert_exporter": "python",
   "pygments_lexer": "ipython3",
   "version": "3.13.0"
  }
 },
 "nbformat": 4,
 "nbformat_minor": 5
}
